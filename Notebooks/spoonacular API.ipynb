{
 "cells": [
  {
   "cell_type": "code",
   "execution_count": 2,
   "metadata": {},
   "outputs": [],
   "source": [
    "import numpy as np"
   ]
  },
  {
   "cell_type": "code",
   "execution_count": 3,
   "metadata": {},
   "outputs": [
    {
     "name": "stdout",
     "output_type": "stream",
     "text": [
      "{'results': [{'vegetarian': True, 'vegan': False, 'glutenFree': False, 'dairyFree': False, 'veryHealthy': False, 'cheap': False, 'veryPopular': False, 'sustainable': False, 'lowFodmap': False, 'weightWatcherSmartPoints': 9, 'gaps': 'no', 'preparationMinutes': None, 'cookingMinutes': None, 'aggregateLikes': 1, 'healthScore': 24, 'creditsText': 'Foodista.com – The Cooking Encyclopedia Everyone Can Edit', 'license': 'CC BY 3.0', 'sourceName': 'Foodista', 'pricePerServing': 165.29, 'id': 644205, 'title': 'Garden Vegetable Ravioli With Tomato Brodo', 'readyInMinutes': 45, 'servings': 6, 'sourceUrl': 'https://www.foodista.com/recipe/Q8KRWHSR/garden-vegetable-ravioli-with-tomato-brodo', 'image': 'https://img.spoonacular.com/recipes/644205-312x231.jpg', 'imageType': 'jpg', 'summary': 'The recipe Garden Vegetable Ravioli With Tomato Brodo could satisfy your Mediterranean craving in approximately <b>45 minutes</b>. For <b>$1.65 per serving</b>, you get a hor d\\'oeuvre that serves 6. One portion of this dish contains roughly <b>10g of protein</b>, <b>17g of fat</b>, and a total of <b>350 calories</b>. Not a lot of people made this recipe, and 1 would say it hit the spot. It is brought to you by Foodista. It is a good option if you\\'re following a <b>lacto ovo vegetarian</b> diet. If you have olive oil, tomatoes, summer squash, and a few other ingredients on hand, you can make it. Overall, this recipe earns a <b>pretty good spoonacular score of 67%</b>. Similar recipes are <a href=\"https://spoonacular.com/recipes/garden-squash-ravioli-398051\">Garden Squash Ravioli</a>, <a href=\"https://spoonacular.com/recipes/garden-squash-ravioli-1356541\">Garden Squash Ravioli</a>, and <a href=\"https://spoonacular.com/recipes/olive-garden-toasted-ravioli-719248\">Olive Garden Toasted Ravioli</a>.', 'cuisines': ['Mediterranean', 'Italian', 'European'], 'dishTypes': ['side dish', 'antipasti', 'starter', 'snack', 'appetizer', 'antipasto', \"hor d'oeuvre\"], 'diets': ['lacto ovo vegetarian'], 'occasions': [], 'spoonacularScore': 71.26976776123047, 'spoonacularSourceUrl': 'https://spoonacular.com/garden-vegetable-ravioli-with-tomato-brodo-644205'}, {'vegetarian': True, 'vegan': False, 'glutenFree': False, 'dairyFree': False, 'veryHealthy': False, 'cheap': False, 'veryPopular': False, 'sustainable': False, 'lowFodmap': False, 'weightWatcherSmartPoints': 10, 'gaps': 'no', 'preparationMinutes': None, 'cookingMinutes': None, 'aggregateLikes': 1, 'healthScore': 20, 'creditsText': 'foodista.com', 'sourceName': 'foodista.com', 'pricePerServing': 110.51, 'id': 640064, 'title': 'Coriander Ravioli With Pumpkin & Cottage Cheese Filling', 'readyInMinutes': 45, 'servings': 2, 'sourceUrl': 'https://www.foodista.com/recipe/RY7ZLSW6/coriander-ravioli-with-pumpkin-cottage-cheese-filling', 'image': 'https://img.spoonacular.com/recipes/640064-312x231.jpg', 'imageType': 'jpg', 'summary': 'Coriander Ravioli With Pumpkin & Cottage Cheese Filling is a <b>lacto ovo vegetarian</b> recipe with 2 servings. This main course has <b>392 calories</b>, <b>19g of protein</b>, and <b>7g of fat</b> per serving. For <b>$1.11 per serving</b>, this recipe <b>covers 24%</b> of your daily requirements of vitamins and minerals. 1 person has made this recipe and would make it again. Head to the store and pick up coriander, pepper, sundried tomatoes, and a few other things to make it today. From preparation to the plate, this recipe takes approximately <b>45 minutes</b>. It is an <b>affordable</b> recipe for fans of Mediterranean food. It is brought to you by Foodista. All things considered, we decided this recipe <b>deserves a spoonacular score of 68%</b>. This score is solid. Similar recipes include <a href=\"https://spoonacular.com/recipes/chocolate-cake-with-cottage-cheese-filling-1346727\">Chocolate Cake with Cottage Cheese Filling</a>, <a href=\"https://spoonacular.com/recipes/chocolate-cake-with-cottage-cheese-filling-988627\">Chocolate Cake with Cottage Cheese Filling</a>, and <a href=\"https://spoonacular.com/recipes/cheese-filling-for-ravioli-138850\">Cheese Filling for Ravioli</a>.', 'cuisines': ['Mediterranean', 'Italian', 'European'], 'dishTypes': ['side dish', 'lunch', 'main course', 'main dish', 'dinner'], 'diets': ['lacto ovo vegetarian'], 'occasions': [], 'spoonacularScore': 67.7152099609375, 'spoonacularSourceUrl': 'https://spoonacular.com/coriander-ravioli-with-pumpkin-cottage-cheese-filling-640064'}], 'offset': 0, 'number': 5, 'totalResults': 2}\n",
      "{'vegetarian': True, 'vegan': False, 'glutenFree': False, 'dairyFree': False, 'veryHealthy': False, 'cheap': False, 'veryPopular': False, 'sustainable': False, 'lowFodmap': False, 'weightWatcherSmartPoints': 9, 'gaps': 'no', 'preparationMinutes': None, 'cookingMinutes': None, 'aggregateLikes': 1, 'healthScore': 24, 'creditsText': 'Foodista.com – The Cooking Encyclopedia Everyone Can Edit', 'license': 'CC BY 3.0', 'sourceName': 'Foodista', 'pricePerServing': 165.29, 'id': 644205, 'title': 'Garden Vegetable Ravioli With Tomato Brodo', 'readyInMinutes': 45, 'servings': 6, 'sourceUrl': 'https://www.foodista.com/recipe/Q8KRWHSR/garden-vegetable-ravioli-with-tomato-brodo', 'image': 'https://img.spoonacular.com/recipes/644205-312x231.jpg', 'imageType': 'jpg', 'summary': 'The recipe Garden Vegetable Ravioli With Tomato Brodo could satisfy your Mediterranean craving in approximately <b>45 minutes</b>. For <b>$1.65 per serving</b>, you get a hor d\\'oeuvre that serves 6. One portion of this dish contains roughly <b>10g of protein</b>, <b>17g of fat</b>, and a total of <b>350 calories</b>. Not a lot of people made this recipe, and 1 would say it hit the spot. It is brought to you by Foodista. It is a good option if you\\'re following a <b>lacto ovo vegetarian</b> diet. If you have olive oil, tomatoes, summer squash, and a few other ingredients on hand, you can make it. Overall, this recipe earns a <b>pretty good spoonacular score of 67%</b>. Similar recipes are <a href=\"https://spoonacular.com/recipes/garden-squash-ravioli-398051\">Garden Squash Ravioli</a>, <a href=\"https://spoonacular.com/recipes/garden-squash-ravioli-1356541\">Garden Squash Ravioli</a>, and <a href=\"https://spoonacular.com/recipes/olive-garden-toasted-ravioli-719248\">Olive Garden Toasted Ravioli</a>.', 'cuisines': ['Mediterranean', 'Italian', 'European'], 'dishTypes': ['side dish', 'antipasti', 'starter', 'snack', 'appetizer', 'antipasto', \"hor d'oeuvre\"], 'diets': ['lacto ovo vegetarian'], 'occasions': [], 'spoonacularScore': 71.26976776123047, 'spoonacularSourceUrl': 'https://spoonacular.com/garden-vegetable-ravioli-with-tomato-brodo-644205'}\n",
      "Recipe: Garden Vegetable Ravioli With Tomato Brodo\n",
      "URL: https://www.foodista.com/recipe/Q8KRWHSR/garden-vegetable-ravioli-with-tomato-brodo\n",
      "Image: https://img.spoonacular.com/recipes/644205-312x231.jpg\n",
      "------------------------------\n",
      "{'vegetarian': True, 'vegan': False, 'glutenFree': False, 'dairyFree': False, 'veryHealthy': False, 'cheap': False, 'veryPopular': False, 'sustainable': False, 'lowFodmap': False, 'weightWatcherSmartPoints': 10, 'gaps': 'no', 'preparationMinutes': None, 'cookingMinutes': None, 'aggregateLikes': 1, 'healthScore': 20, 'creditsText': 'foodista.com', 'sourceName': 'foodista.com', 'pricePerServing': 110.51, 'id': 640064, 'title': 'Coriander Ravioli With Pumpkin & Cottage Cheese Filling', 'readyInMinutes': 45, 'servings': 2, 'sourceUrl': 'https://www.foodista.com/recipe/RY7ZLSW6/coriander-ravioli-with-pumpkin-cottage-cheese-filling', 'image': 'https://img.spoonacular.com/recipes/640064-312x231.jpg', 'imageType': 'jpg', 'summary': 'Coriander Ravioli With Pumpkin & Cottage Cheese Filling is a <b>lacto ovo vegetarian</b> recipe with 2 servings. This main course has <b>392 calories</b>, <b>19g of protein</b>, and <b>7g of fat</b> per serving. For <b>$1.11 per serving</b>, this recipe <b>covers 24%</b> of your daily requirements of vitamins and minerals. 1 person has made this recipe and would make it again. Head to the store and pick up coriander, pepper, sundried tomatoes, and a few other things to make it today. From preparation to the plate, this recipe takes approximately <b>45 minutes</b>. It is an <b>affordable</b> recipe for fans of Mediterranean food. It is brought to you by Foodista. All things considered, we decided this recipe <b>deserves a spoonacular score of 68%</b>. This score is solid. Similar recipes include <a href=\"https://spoonacular.com/recipes/chocolate-cake-with-cottage-cheese-filling-1346727\">Chocolate Cake with Cottage Cheese Filling</a>, <a href=\"https://spoonacular.com/recipes/chocolate-cake-with-cottage-cheese-filling-988627\">Chocolate Cake with Cottage Cheese Filling</a>, and <a href=\"https://spoonacular.com/recipes/cheese-filling-for-ravioli-138850\">Cheese Filling for Ravioli</a>.', 'cuisines': ['Mediterranean', 'Italian', 'European'], 'dishTypes': ['side dish', 'lunch', 'main course', 'main dish', 'dinner'], 'diets': ['lacto ovo vegetarian'], 'occasions': [], 'spoonacularScore': 67.7152099609375, 'spoonacularSourceUrl': 'https://spoonacular.com/coriander-ravioli-with-pumpkin-cottage-cheese-filling-640064'}\n",
      "Recipe: Coriander Ravioli With Pumpkin & Cottage Cheese Filling\n",
      "URL: https://www.foodista.com/recipe/RY7ZLSW6/coriander-ravioli-with-pumpkin-cottage-cheese-filling\n",
      "Image: https://img.spoonacular.com/recipes/640064-312x231.jpg\n",
      "------------------------------\n"
     ]
    }
   ],
   "source": [
    "import requests\n",
    "from dotenv import load_dotenv\n",
    "import os\n",
    "\n",
    "load_dotenv()\n",
    "\n",
    "# API Key and URL\n",
    "API_KEY = os.getenv(\"SPOONACULAR_API_KEY\")\n",
    "BASE_URL = \"https://api.spoonacular.com/recipes/complexSearch\"\n",
    "\n",
    "# Parameters for the search\n",
    "params = {\n",
    "    \"query\": \"pasta\",  # Search term\n",
    "    \"includeIngredients\": \"tomato,cheese\",  # Must-have ingredients\n",
    "    \"excludeIngredients\": \"nuts\",  # Ingredients to exclude\n",
    "    \"diet\": \"vegetarian\",  # Dietary preference\n",
    "    \"cuisine\": \"italian\",  # Cuisine type\n",
    "    \"addRecipeInformation\": True,  # Include detailed recipe info\n",
    "    \"number\": 5,  # Number of results\n",
    "    \"apiKey\": API_KEY  # API Key\n",
    "}\n",
    "\n",
    "# Make the API request\n",
    "response = requests.get(BASE_URL, params=params)\n",
    "\n",
    "# Check the response status and print results\n",
    "if response.status_code == 200:\n",
    "    recipes = response.json()\n",
    "    print(recipes)\n",
    "    for recipe in recipes.get(\"results\", []):\n",
    "        print(recipe)\n",
    "        print(f\"Recipe: {recipe['title']}\")\n",
    "        print(f\"URL: {recipe.get('sourceUrl', 'N/A')}\")\n",
    "        print(f\"Image: {recipe.get('image', 'N/A')}\")\n",
    "        print(\"-\" * 30)\n",
    "else:\n",
    "    print(f\"Failed to fetch recipes: {response.status_code}\")\n",
    "    print(response.json())\n"
   ]
  },
  {
   "cell_type": "markdown",
   "metadata": {},
   "source": [
    "### To add subtitute for ingredients when asked for (API)\n"
   ]
  },
  {
   "cell_type": "code",
   "execution_count": 129,
   "metadata": {},
   "outputs": [],
   "source": [
    "import requests\n",
    "from dotenv import load_dotenv\n",
    "import os\n",
    "\n",
    "load_dotenv()\n",
    "\n",
    "# API Key and URL\n",
    "API_KEY = os.getenv(\"SPOONACULAR_API_KEY\")\n",
    "BASE_URL = \"https://api.spoonacular.com/food/ingredients/substitutes\"\n",
    "\n",
    "\n",
    "# Parameters for the search\n",
    "params = {\n",
    "    \"ingredientName\": \"pasta\",\n",
    "    \"apiKey\": API_KEY\n",
    "}\n",
    "\n",
    "# Make the API request\n",
    "response = requests.get(BASE_URL, params=params)\n",
    "\n",
    "# Check the response status and print results\n",
    "if response.status_code == 200:\n",
    "    substitutes = response.json()\n",
    "    # print(substitutes)\n",
    "    # print(f\"{substitutes.get('message')}: {substitutes.get('ingredient')}\")\n",
    "    for substitute in substitutes.get(\"substitutes\", []):\n",
    "        print(substitute)\n",
    "    #     print(f\"Subtitutes: {recipe['substitutes']}\")\n",
    "    #     print(f\"URL: {recipe.get('sourceUrl', 'N/A')}\")\n",
    "    #     print(f\"Image: {recipe.get('image', 'N/A')}\")\n",
    "    #     print(\"-\" * 30)\n",
    "else:\n",
    "    print(f\"Failed to fetch recipes: {response.status_code}\")\n",
    "    print(response.json())"
   ]
  },
  {
   "cell_type": "code",
   "execution_count": null,
   "metadata": {},
   "outputs": [],
   "source": [
    "from langchain_core.tools import tool\n",
    "\n",
    "@tool\n",
    "def search_ingredient_substitutes(ingredient_name: str) -> dict:\n",
    "    \"\"\"\n",
    "    Fetches ingredient substitutes from the Spoonacular API.\n",
    "\n",
    "    Args:\n",
    "        ingredient_name (str): The name of the ingredient to find substitutes for.\n",
    "\n",
    "    Returns:\n",
    "        dict: A dictionary containing the substitutes and relevant information.\n",
    "    \"\"\"\n",
    "\n",
    "    # Parameters for the request\n",
    "    params = {\n",
    "        \"ingredientName\": ingredient_name,\n",
    "    }\n",
    "\n",
    "    return params\n",
    "\n",
    "\n",
    "def fetch_substitutes(parameter):\n",
    "    # API Key and URL\n",
    "    API_KEY = os.getenv(\"SPOONACULAR_API_KEY\")\n",
    "    BASE_URL = \"https://api.spoonacular.com/food/ingredients/substitutes\"\n",
    "\n",
    "\n",
    "    # Parameters for the search\n",
    "    params = {\n",
    "        \"ingredientName\": parameter[\"ingredient_name\"],\n",
    "        \"apiKey\": API_KEY\n",
    "    }\n",
    "\n",
    "    # Make the API request\n",
    "    response = requests.get(BASE_URL, params=params)\n",
    "\n",
    "    # Check the response status and return results\n",
    "    if response.status_code == 200:\n",
    "        substitutes = response.json()\n",
    "        return substitutes.get(\"substitutes\", [])\n",
    "    else:\n",
    "        return {\n",
    "            \"error\": f\"Failed to fetch recipes: {response.status_code}\",\n",
    "            \"details\": response.json()\n",
    "        }"
   ]
  },
  {
   "cell_type": "code",
   "execution_count": null,
   "metadata": {},
   "outputs": [],
   "source": [
    "from langchain_core.tools import tool\n",
    "import os\n",
    "import requests\n",
    "from dotenv import load_dotenv\n",
    "\n",
    "load_dotenv()  # Load environment variables from .env\n",
    "\n",
    "@tool\n",
    "def search_ingredient_substitutes(ingredient_name: str) -> dict:\n",
    "    \"\"\"\n",
    "    Fetches ingredient substitutes from the Spoonacular API.\n",
    "\n",
    "    Args:\n",
    "        ingredient_name (str): The name of the ingredient to find substitutes for.\n",
    "\n",
    "    Returns:\n",
    "        dict: A dictionary containing the substitutes and relevant information.\n",
    "    \"\"\"\n",
    "    # Return parameters for fetching substitutes\n",
    "    return {\n",
    "        \"ingredient_name\": ingredient_name,\n",
    "        \"api_key\": os.getenv(\"SPOONACULAR_API_KEY\")\n",
    "    }\n",
    "\n",
    "\n",
    "def fetch_substitutes(parameter: dict) -> dict:\n",
    "    \"\"\"\n",
    "    Makes an API request to fetch substitutes for a given ingredient.\n",
    "\n",
    "    Args:\n",
    "        parameter (dict): A dictionary containing 'ingredient_name' and 'api_key'.\n",
    "\n",
    "    Returns:\n",
    "        dict: A dictionary containing the substitutes or error details.\n",
    "    \"\"\"\n",
    "    # Validate API key\n",
    "    if not parameter.get(\"api_key\"):\n",
    "        return {\"error\": \"API key is missing. Please check your environment variables.\"}\n",
    "\n",
    "    # API base URL\n",
    "    BASE_URL = \"https://api.spoonacular.com/food/ingredients/substitutes\"\n",
    "\n",
    "    # Parameters for the request\n",
    "    params = {\n",
    "        \"ingredientName\": parameter[\"ingredient_name\"],\n",
    "        \"apiKey\": parameter[\"api_key\"]\n",
    "    }\n",
    "\n",
    "    try:\n",
    "        # Make the API request\n",
    "        response = requests.get(BASE_URL, params=params)\n",
    "\n",
    "        # Validate response status\n",
    "        if response.status_code == 200:\n",
    "            substitutes = response.json()\n",
    "            return {\n",
    "                \"substitutes\": substitutes.get(\"substitutes\", []),\n",
    "                \"message\": substitutes.get(\"message\"),\n",
    "            }\n",
    "        else:\n",
    "            return {\n",
    "                \"error\": f\"Failed to fetch substitutes. Status code: {response.status_code}\",\n",
    "                \"details\": response.json(),\n",
    "            }\n",
    "    except requests.exceptions.RequestException as e:\n",
    "        # Handle network-related errors\n",
    "        return {\"error\": f\"An error occurred while making the API request: {str(e)}\"}\n"
   ]
  },
  {
   "cell_type": "code",
   "execution_count": null,
   "metadata": {},
   "outputs": [],
   "source": [
    "from langchain_core.tools import tool\n",
    "\n",
    "@tool\n",
    "def search_recipes(\n",
    "    query: str, \n",
    "    includeIngredients: str, \n",
    "    excludeIngredients: str, \n",
    "    diet: str, \n",
    "    cuisine: str, \n",
    "    addRecipeInformation: bool, \n",
    "    number: int, \n",
    "    apiKey: str\n",
    ") -> dict:\n",
    "    \"\"\"Search for recipes based on various filters and preferences.\n",
    "\n",
    "    Args:\n",
    "        query: Search term for the recipe (e.g., 'pasta').\n",
    "        includeIngredients: Ingredients that must be included in the recipes (comma-separated).\n",
    "        excludeIngredients: Ingredients to exclude from the recipes (comma-separated).\n",
    "        diet: Dietary preference (e.g., 'vegetarian').\n",
    "        cuisine: Cuisine type (e.g., 'italian').\n",
    "        addRecipeInformation: Whether to include detailed recipe information (True/False).\n",
    "        number: Number of results to return.\n",
    "        apiKey: API key for authenticating the request.\n",
    "\n",
    "    Returns:\n",
    "        A dictionary containing the search results.\n",
    "    \"\"\"\n",
    "    # Example implementation (replace with actual API call if needed)\n",
    "    result = {\n",
    "        \"query\": query,\n",
    "        \"filters\": {\n",
    "            \"includeIngredients\": includeIngredients.split(\",\"),\n",
    "            \"excludeIngredients\": excludeIngredients.split(\",\"),\n",
    "            \"diet\": diet,\n",
    "            \"cuisine\": cuisine\n",
    "        },\n",
    "        \"settings\": {\n",
    "            \"addRecipeInformation\": addRecipeInformation,\n",
    "            \"number\": number\n",
    "        },\n",
    "        \"apiKey\": apiKey\n",
    "    }\n",
    "    return result\n"
   ]
  },
  {
   "cell_type": "markdown",
   "metadata": {},
   "source": [
    "### The function for the tool calling"
   ]
  },
  {
   "cell_type": "code",
   "execution_count": 111,
   "metadata": {},
   "outputs": [],
   "source": [
    "import requests\n",
    "from dotenv import load_dotenv\n",
    "from langchain_core.tools import tool\n",
    "import os\n",
    "\n",
    "\n",
    "def search_recipes_tool(query, includeIngredients, excludeIngredients, diet, cuisine, addRecipeInformation, number):\n",
    "\n",
    "    # API Key and URL\n",
    "    API_KEY = os.getenv(\"SPOONACULAR_API_KEY\")\n",
    "    BASE_URL = \"https://api.spoonacular.com/recipes/complexSearch\"\n",
    "\n",
    "    # Parameters for the search\n",
    "    params = {\n",
    "        \"query\": query,  # Search term\n",
    "        \"includeIngredients\": includeIngredients,  # Must-have ingredients\n",
    "        \"excludeIngredients\": excludeIngredients,  # Ingredients to exclude\n",
    "        \"diet\": diet,  # Dietary preference\n",
    "        \"cuisine\": cuisine,  # Cuisine type\n",
    "        \"addRecipeInformation\": addRecipeInformation,  # Include detailed recipe info\n",
    "        \"number\": number,  # Number of results\n",
    "        \"apiKey\": API_KEY  # API Key\n",
    "    }\n",
    "\n",
    "    # Make the API request\n",
    "    response = requests.get(BASE_URL, params=params)\n",
    "\n",
    "    # Check the response status and print results\n",
    "    if response.status_code == 200:\n",
    "        recipes = response.json()\n",
    "        for recipe in recipes.get(\"results\", []):\n",
    "            return recipe\n",
    "    else:\n",
    "        return f\"Failed to fetch recipes: {response.status_code}\"\n",
    "\n",
    "\n",
    "\n",
    "@tool\n",
    "def search_recipes(\n",
    "    query: str, \n",
    "    includeIngredients: str, \n",
    "    excludeIngredients: str, \n",
    "    diet: str, \n",
    "    cuisine: str, \n",
    "    addRecipeInformation: bool, \n",
    "    number: int,\n",
    ") -> dict:\n",
    "    \"\"\"Search for recipes based on various filters and preferences.\n",
    "\n",
    "    Args:\n",
    "        query: Search term for the recipe (e.g., 'pasta').\n",
    "        includeIngredients: Ingredients that must be included in the recipes (comma-separated).\n",
    "        excludeIngredients: Ingredients to exclude from the recipes (comma-separated).\n",
    "        diet: Dietary preference (e.g., 'vegetarian').\n",
    "        cuisine: Cuisine type (e.g., 'italian').\n",
    "        addRecipeInformation: Whether to include detailed recipe information (True/False).\n",
    "        number: Number of results to return.\n",
    "\n",
    "    Returns:\n",
    "        A dictionary containing the search results.\n",
    "    \"\"\"\n",
    "    return search_recipes_tool(query, includeIngredients, excludeIngredients, diet, cuisine, addRecipeInformation, number)\n",
    "\n"
   ]
  },
  {
   "cell_type": "code",
   "execution_count": 112,
   "metadata": {},
   "outputs": [],
   "source": [
    "from langchain_cohere import ChatCohere\n",
    "import os\n",
    "\n",
    "load_dotenv()\n",
    "\n",
    "os.environ[\"COHERE_API_KEY\"] = os.getenv(\"COHERE_API_KEY\")\n",
    "\n",
    "\n",
    "llm = ChatCohere(model=\"command-r-plus-04-2024\")\n",
    "\n",
    "tools = [search_recipes]"
   ]
  },
  {
   "cell_type": "code",
   "execution_count": 113,
   "metadata": {},
   "outputs": [],
   "source": [
    "llm_with_tools = llm.bind_tools(tools)"
   ]
  },
  {
   "cell_type": "code",
   "execution_count": 131,
   "metadata": {},
   "outputs": [
    {
     "name": "stdout",
     "output_type": "stream",
     "text": [
      "[{'name': 'search_recipes', 'args': {'addRecipeInformation': 'True', 'cuisine': '', 'diet': 'vegetarian', 'excludeIngredients': 'dairy, nuts', 'includeIngredients': 'mushrooms, spinach', 'number': '3', 'query': 'vegetarian high protein'}, 'id': '2a2d5aa51556402782cb03b2b894d7db', 'type': 'tool_call'}]\n"
     ]
    }
   ],
   "source": [
    "query = \"I want a vegetarian recipe that includes mushrooms and spinach, excludes dairy and nuts, is high in protein, and takes less than 30 minutes to prepare. Provide 3 detailed results with nutritional information.\"\n",
    "\n",
    "result = llm_with_tools.invoke(query).tool_calls\n",
    "print(result)\n"
   ]
  },
  {
   "cell_type": "code",
   "execution_count": 119,
   "metadata": {},
   "outputs": [
    {
     "name": "stdout",
     "output_type": "stream",
     "text": [
      "{'vegetarian': False, 'vegan': False, 'glutenFree': True, 'dairyFree': False, 'veryHealthy': False, 'cheap': False, 'veryPopular': False, 'sustainable': False, 'lowFodmap': False, 'weightWatcherSmartPoints': 15, 'gaps': 'no', 'preparationMinutes': None, 'cookingMinutes': None, 'aggregateLikes': 2, 'healthScore': 36, 'creditsText': 'foodista.com', 'sourceName': 'foodista.com', 'pricePerServing': 206.4, 'id': 648155, 'title': 'Italian Kale and Potato Soup', 'readyInMinutes': 45, 'servings': 6, 'sourceUrl': 'https://www.foodista.com/recipe/54VL6QJD/italian-kale-and-potato-soup', 'image': 'https://img.spoonacular.com/recipes/648155-312x231.jpg', 'imageType': 'jpg', 'summary': 'Italian Kale and Potato Soup is a <b>gluten free and whole 30</b> recipe with 6 servings. This main course has <b>480 calories</b>, <b>22g of protein</b>, and <b>33g of fat</b> per serving. For <b>$2.06 per serving</b>, this recipe <b>covers 26%</b> of your daily requirements of vitamins and minerals. 2 people have made this recipe and would make it again. If you have oregano, ground turkey sausage, chicken broth, and a few other ingredients on hand, you can make it. It can be enjoyed any time, but it is especially good for <b>Autumn</b>. Not a lot of people really liked this Mediterranean dish. It is brought to you by Foodista. From preparation to the plate, this recipe takes roughly <b>45 minutes</b>. All things considered, we decided this recipe <b>deserves a spoonacular score of 80%</b>. This score is great. Similar recipes are <a href=\"https://spoonacular.com/recipes/italian-kale-and-potato-soup-1353063\">Italian Kale and Potato Soup</a>, <a href=\"https://spoonacular.com/recipes/zuppa-vegana-italian-potato-bean-and-kale-soup-158767\">Zuppa Vegana: Italian Potato, Bean, and Kale Soup</a>, and <a href=\"https://spoonacular.com/recipes/zuppa-toscana-creamy-potato-kale-soup-with-italian-sausage-618107\">Zuppa Toscana {Creamy Potato & Kale Soup with Italian Sausage}</a>.', 'cuisines': ['Mediterranean', 'Italian', 'European'], 'dishTypes': ['lunch', 'soup', 'main course', 'main dish', 'dinner'], 'diets': ['gluten free', 'whole 30'], 'occasions': ['fall', 'winter'], 'spoonacularScore': 79.60507202148438, 'spoonacularSourceUrl': 'https://spoonacular.com/italian-kale-and-potato-soup-648155'}\n"
     ]
    },
    {
     "data": {
      "text/plain": [
       "[HumanMessage(content='Find a recipe I can make with chicken, onion, and garlic, that excludes peanuts and shellfish, is gluten-free, and provides 2 detailed results.', additional_kwargs={}, response_metadata={}),\n",
       " AIMessage(content='I will search for recipes that include chicken, onion and garlic, and exclude peanuts and shellfish, and are gluten-free. I will include two detailed results in my answer.', additional_kwargs={'documents': None, 'citations': None, 'search_results': None, 'search_queries': None, 'is_search_required': None, 'generation_id': '3ae6bf7f-921e-4c5d-9e8c-157286257a85', 'tool_calls': [{'id': '3d4121086d9d433bab2820585d206ad2', 'function': {'name': 'search_recipes', 'arguments': '{\"addRecipeInformation\": \"True\", \"cuisine\": \"\", \"diet\": \"gluten-free\", \"excludeIngredients\": \"peanuts, shellfish\", \"includeIngredients\": \"onion, garlic\", \"number\": 2, \"query\": \"chicken\"}'}, 'type': 'function'}], 'token_count': {'input_tokens': 1108.0, 'output_tokens': 131.0}}, response_metadata={'documents': None, 'citations': None, 'search_results': None, 'search_queries': None, 'is_search_required': None, 'generation_id': '3ae6bf7f-921e-4c5d-9e8c-157286257a85', 'tool_calls': [{'id': '3d4121086d9d433bab2820585d206ad2', 'function': {'name': 'search_recipes', 'arguments': '{\"addRecipeInformation\": \"True\", \"cuisine\": \"\", \"diet\": \"gluten-free\", \"excludeIngredients\": \"peanuts, shellfish\", \"includeIngredients\": \"onion, garlic\", \"number\": 2, \"query\": \"chicken\"}'}, 'type': 'function'}], 'token_count': {'input_tokens': 1108.0, 'output_tokens': 131.0}}, id='run-0919c16a-be3b-4d45-9d94-b7fb591aa664-0', tool_calls=[{'name': 'search_recipes', 'args': {'addRecipeInformation': 'True', 'cuisine': '', 'diet': 'gluten-free', 'excludeIngredients': 'peanuts, shellfish', 'includeIngredients': 'onion, garlic', 'number': 2, 'query': 'chicken'}, 'id': '065ac917497f4d439d2f14605b9c7b60', 'type': 'tool_call'}], usage_metadata={'input_tokens': 1108, 'output_tokens': 131, 'total_tokens': 1239}),\n",
       " ToolMessage(content='{\\'vegetarian\\': False, \\'vegan\\': False, \\'glutenFree\\': True, \\'dairyFree\\': False, \\'veryHealthy\\': False, \\'cheap\\': False, \\'veryPopular\\': False, \\'sustainable\\': False, \\'lowFodmap\\': False, \\'weightWatcherSmartPoints\\': 15, \\'gaps\\': \\'no\\', \\'preparationMinutes\\': None, \\'cookingMinutes\\': None, \\'aggregateLikes\\': 2, \\'healthScore\\': 36, \\'creditsText\\': \\'foodista.com\\', \\'sourceName\\': \\'foodista.com\\', \\'pricePerServing\\': 206.4, \\'id\\': 648155, \\'title\\': \\'Italian Kale and Potato Soup\\', \\'readyInMinutes\\': 45, \\'servings\\': 6, \\'sourceUrl\\': \\'https://www.foodista.com/recipe/54VL6QJD/italian-kale-and-potato-soup\\', \\'image\\': \\'https://img.spoonacular.com/recipes/648155-312x231.jpg\\', \\'imageType\\': \\'jpg\\', \\'summary\\': \\'Italian Kale and Potato Soup is a <b>gluten free and whole 30</b> recipe with 6 servings. This main course has <b>480 calories</b>, <b>22g of protein</b>, and <b>33g of fat</b> per serving. For <b>$2.06 per serving</b>, this recipe <b>covers 26%</b> of your daily requirements of vitamins and minerals. 2 people have made this recipe and would make it again. If you have oregano, ground turkey sausage, chicken broth, and a few other ingredients on hand, you can make it. It can be enjoyed any time, but it is especially good for <b>Autumn</b>. Not a lot of people really liked this Mediterranean dish. It is brought to you by Foodista. From preparation to the plate, this recipe takes roughly <b>45 minutes</b>. All things considered, we decided this recipe <b>deserves a spoonacular score of 80%</b>. This score is great. Similar recipes are <a href=\"https://spoonacular.com/recipes/italian-kale-and-potato-soup-1353063\">Italian Kale and Potato Soup</a>, <a href=\"https://spoonacular.com/recipes/zuppa-vegana-italian-potato-bean-and-kale-soup-158767\">Zuppa Vegana: Italian Potato, Bean, and Kale Soup</a>, and <a href=\"https://spoonacular.com/recipes/zuppa-toscana-creamy-potato-kale-soup-with-italian-sausage-618107\">Zuppa Toscana {Creamy Potato & Kale Soup with Italian Sausage}</a>.\\', \\'cuisines\\': [\\'Mediterranean\\', \\'Italian\\', \\'European\\'], \\'dishTypes\\': [\\'lunch\\', \\'soup\\', \\'main course\\', \\'main dish\\', \\'dinner\\'], \\'diets\\': [\\'gluten free\\', \\'whole 30\\'], \\'occasions\\': [\\'fall\\', \\'winter\\'], \\'spoonacularScore\\': 79.60507202148438, \\'spoonacularSourceUrl\\': \\'https://spoonacular.com/italian-kale-and-potato-soup-648155\\'}', tool_call_id='065ac917497f4d439d2f14605b9c7b60')]"
      ]
     },
     "execution_count": 119,
     "metadata": {},
     "output_type": "execute_result"
    }
   ],
   "source": [
    "from langchain_core.messages import HumanMessage, ToolMessage\n",
    "\n",
    "messages = [HumanMessage(query)]\n",
    "ai_msg = llm_with_tools.invoke(messages)\n",
    "messages.append(ai_msg)\n",
    "\n",
    "for tool_call in ai_msg.tool_calls:\n",
    "    selected_tool = {\"search_recipes\": search_recipes}[tool_call[\"name\"].lower()]\n",
    "    tool_output = selected_tool.invoke(tool_call[\"args\"])\n",
    "    print(tool_output)\n",
    "    messages.append(ToolMessage(tool_output, tool_call_id=tool_call[\"id\"]))\n",
    "\n",
    "messages"
   ]
  },
  {
   "cell_type": "code",
   "execution_count": 118,
   "metadata": {},
   "outputs": [
    {
     "name": "stdout",
     "output_type": "stream",
     "text": [
      "The source URL is: https://www.foodista.com/recipe/54VL6QJD/italian-kale-and-potato-soup\n"
     ]
    }
   ],
   "source": [
    "\n",
    "\n",
    "import ast\n",
    "\n",
    "# Provided ToolMessage content\n",
    "tool_message_content = tool_message_contemt = messages[2].content\n",
    "\n",
    "# Safely evaluate the string into a Python dictionary\n",
    "tool_message_dict = ast.literal_eval(tool_message_content)\n",
    "\n",
    "# Extract the sourceUrl from the dictionary\n",
    "source_url = tool_message_dict.get('sourceUrl')\n",
    "\n",
    "# Print the sourceUrl\n",
    "if source_url:\n",
    "    print(f\"The source URL is: {source_url}\")\n",
    "else:\n",
    "    print(\"No source URL found.\")\n"
   ]
  },
  {
   "cell_type": "code",
   "execution_count": 103,
   "metadata": {},
   "outputs": [
    {
     "data": {
      "text/plain": [
       "[HumanMessage(content='Find a recipe I can make with chicken, onion, and garlic, that excludes peanuts and shellfish, is gluten-free, and provides 2 detailed results.', additional_kwargs={}, response_metadata={}),\n",
       " AIMessage(content='I will search for recipes that include chicken, onion and garlic, and exclude peanuts and shellfish, and are gluten-free. I will provide two detailed results.', additional_kwargs={'documents': None, 'citations': None, 'search_results': None, 'search_queries': None, 'is_search_required': None, 'generation_id': 'f96753a2-c541-4f1d-8a9d-59f2b2dcb9e2', 'tool_calls': [{'id': '699b7601ac56441890fe0c98fe072fa6', 'function': {'name': 'search_recipes', 'arguments': '{\"addRecipeInformation\": true, \"cuisine\": \"\", \"diet\": \"gluten-free\", \"excludeIngredients\": \"peanuts, shellfish\", \"includeIngredients\": \"onion, garlic\", \"number\": 2, \"query\": \"chicken\"}'}, 'type': 'function'}], 'token_count': {'input_tokens': 1108.0, 'output_tokens': 127.0}}, response_metadata={'documents': None, 'citations': None, 'search_results': None, 'search_queries': None, 'is_search_required': None, 'generation_id': 'f96753a2-c541-4f1d-8a9d-59f2b2dcb9e2', 'tool_calls': [{'id': '699b7601ac56441890fe0c98fe072fa6', 'function': {'name': 'search_recipes', 'arguments': '{\"addRecipeInformation\": true, \"cuisine\": \"\", \"diet\": \"gluten-free\", \"excludeIngredients\": \"peanuts, shellfish\", \"includeIngredients\": \"onion, garlic\", \"number\": 2, \"query\": \"chicken\"}'}, 'type': 'function'}], 'token_count': {'input_tokens': 1108.0, 'output_tokens': 127.0}}, id='run-84fc3ca5-6835-47d5-a61c-88c75b06d6ff-0', tool_calls=[{'name': 'search_recipes', 'args': {'addRecipeInformation': True, 'cuisine': '', 'diet': 'gluten-free', 'excludeIngredients': 'peanuts, shellfish', 'includeIngredients': 'onion, garlic', 'number': 2, 'query': 'chicken'}, 'id': 'b5e7b5de59664967ad2ed5711eb78e32', 'type': 'tool_call'}], usage_metadata={'input_tokens': 1108, 'output_tokens': 127, 'total_tokens': 1235}),\n",
       " ToolMessage(content='{\\'vegetarian\\': False, \\'vegan\\': False, \\'glutenFree\\': True, \\'dairyFree\\': False, \\'veryHealthy\\': False, \\'cheap\\': False, \\'veryPopular\\': False, \\'sustainable\\': False, \\'lowFodmap\\': False, \\'weightWatcherSmartPoints\\': 15, \\'gaps\\': \\'no\\', \\'preparationMinutes\\': None, \\'cookingMinutes\\': None, \\'aggregateLikes\\': 2, \\'healthScore\\': 36, \\'creditsText\\': \\'foodista.com\\', \\'sourceName\\': \\'foodista.com\\', \\'pricePerServing\\': 206.4, \\'id\\': 648155, \\'title\\': \\'Italian Kale and Potato Soup\\', \\'readyInMinutes\\': 45, \\'servings\\': 6, \\'sourceUrl\\': \\'https://www.foodista.com/recipe/54VL6QJD/italian-kale-and-potato-soup\\', \\'image\\': \\'https://img.spoonacular.com/recipes/648155-312x231.jpg\\', \\'imageType\\': \\'jpg\\', \\'summary\\': \\'Italian Kale and Potato Soup is a <b>gluten free and whole 30</b> recipe with 6 servings. This main course has <b>480 calories</b>, <b>22g of protein</b>, and <b>33g of fat</b> per serving. For <b>$2.06 per serving</b>, this recipe <b>covers 26%</b> of your daily requirements of vitamins and minerals. 2 people have made this recipe and would make it again. If you have oregano, ground turkey sausage, chicken broth, and a few other ingredients on hand, you can make it. It can be enjoyed any time, but it is especially good for <b>Autumn</b>. Not a lot of people really liked this Mediterranean dish. It is brought to you by Foodista. From preparation to the plate, this recipe takes roughly <b>45 minutes</b>. All things considered, we decided this recipe <b>deserves a spoonacular score of 80%</b>. This score is great. Similar recipes are <a href=\"https://spoonacular.com/recipes/italian-kale-and-potato-soup-1353063\">Italian Kale and Potato Soup</a>, <a href=\"https://spoonacular.com/recipes/zuppa-vegana-italian-potato-bean-and-kale-soup-158767\">Zuppa Vegana: Italian Potato, Bean, and Kale Soup</a>, and <a href=\"https://spoonacular.com/recipes/zuppa-toscana-creamy-potato-kale-soup-with-italian-sausage-618107\">Zuppa Toscana {Creamy Potato & Kale Soup with Italian Sausage}</a>.\\', \\'cuisines\\': [\\'Mediterranean\\', \\'Italian\\', \\'European\\'], \\'dishTypes\\': [\\'lunch\\', \\'soup\\', \\'main course\\', \\'main dish\\', \\'dinner\\'], \\'diets\\': [\\'gluten free\\', \\'whole 30\\'], \\'occasions\\': [\\'fall\\', \\'winter\\'], \\'spoonacularScore\\': 79.60507202148438, \\'spoonacularSourceUrl\\': \\'https://spoonacular.com/italian-kale-and-potato-soup-648155\\'}', tool_call_id='b5e7b5de59664967ad2ed5711eb78e32')]"
      ]
     },
     "execution_count": 103,
     "metadata": {},
     "output_type": "execute_result"
    }
   ],
   "source": [
    "source_url = messages.get('sourceUrl')\n",
    "\n",
    "# Checking if the sourceUrl is available\n",
    "if source_url:\n",
    "    print(f\"The recipe source URL is: {source_url}\")\n",
    "else:\n",
    "    print(\"No source URL found in the ToolMessage.\")"
   ]
  },
  {
   "cell_type": "code",
   "execution_count": 99,
   "metadata": {},
   "outputs": [
    {
     "data": {
      "text/plain": [
       "{'addRecipeInformation': 'True',\n",
       " 'cuisine': '',\n",
       " 'diet': 'gluten-free',\n",
       " 'excludeIngredients': 'peanuts, shellfish',\n",
       " 'includeIngredients': 'chicken, onion, garlic',\n",
       " 'number': 2,\n",
       " 'query': 'chicken, onion, garlic'}"
      ]
     },
     "execution_count": 99,
     "metadata": {},
     "output_type": "execute_result"
    }
   ],
   "source": [
    "let_me_see = llm_with_tools.invoke(query).tool_calls\n",
    "let_me_see[0]['args']\n"
   ]
  },
  {
   "cell_type": "code",
   "execution_count": 101,
   "metadata": {},
   "outputs": [
    {
     "data": {
      "text/plain": [
       "'True'"
      ]
     },
     "execution_count": 101,
     "metadata": {},
     "output_type": "execute_result"
    }
   ],
   "source": [
    "let_me_see[0]['args']['addRecipeInformation']"
   ]
  },
  {
   "cell_type": "code",
   "execution_count": 95,
   "metadata": {},
   "outputs": [],
   "source": [
    "# llm_with_tools.invoke(messages)"
   ]
  },
  {
   "cell_type": "code",
   "execution_count": null,
   "metadata": {},
   "outputs": [],
   "source": []
  },
  {
   "cell_type": "markdown",
   "metadata": {},
   "source": [
    "## RAG Method to obtain the ingredients and instructions for a recipe (Working)\n"
   ]
  },
  {
   "cell_type": "code",
   "execution_count": 80,
   "metadata": {},
   "outputs": [
    {
     "data": {
      "text/plain": [
       "'Summary:\\nThe recipe is for Italian Kale and Potato Soup. The ingredients include olive oil, Italian ground turkey sausage, potatoes, onion, garlic, kale, low sodium chicken broth, dried basil, dried oregano, fennel seed, low fat buttermilk, fresh ground pepper, and shredded cheese. The instructions involve browning the sausage, sautéing onions and garlic, creating a bouquet garni with herbs, adding all ingredients except kale and buttermilk, simmering until potatoes are cooked, adding kale, stirring in buttermilk, seasoning with pepper, and serving with shredded cheese and crusty bread.\\n\\nIngredients:\\n- 2 tsp olive oil\\n- 1.25 pounds Italian ground turkey sausage\\n- 1 medium potato\\n- 1 medium onion\\n- 3 cloves garlic\\n- 1 bunch kale\\n- 6 cups low sodium chicken broth\\n- 2 tsp dried basil\\n- 2 tsp dried oregano\\n- 2 tsp fennel seed\\n- 0.5 cup low fat buttermilk\\n- Fresh ground pepper to taste\\n- 0.25 cup shredded cheese\\n\\nInstructions:\\n1. Heat olive oil in a large saucepan, brown the sausage.\\n2. Add onion and garlic, sauté until onions are tender.\\n3. Create a bouquet garni with basil, oregano, and fennel in cheesecloth.\\n4. Add bouquet garni and all remaining ingredients except kale and buttermilk to the saucepan, bring to a boil, then simmer until potatoes are cooked (10-15 minutes).\\n5. Add kale and simmer until tender (less than 5 minutes).\\n6. Remove from heat, stir in buttermilk, season with pepper.\\n7. Serve the soup with shredded cheese on top and crusty bread.'"
      ]
     },
     "execution_count": 80,
     "metadata": {},
     "output_type": "execute_result"
    }
   ],
   "source": [
    "from langchain_community.document_loaders import WebBaseLoader\n",
    "from langchain.text_splitter import RecursiveCharacterTextSplitter\n",
    "from langchain_community.embeddings import OpenAIEmbeddings\n",
    "from langchain.chains.combine_documents.stuff import create_stuff_documents_chain\n",
    "from langchain.chains import create_retrieval_chain\n",
    "from langchain.prompts import ChatPromptTemplate\n",
    "from langchain_community.vectorstores import FAISS\n",
    "from langchain_openai import ChatOpenAI\n",
    "\n",
    "loader = WebBaseLoader(\"https://spoonacular.com/italian-kale-and-potato-soup-648155\")\n",
    "docs = loader.load()\n",
    "\n",
    "os.environ['OPENAI_API_KEY'] = os.getenv('OPENAI_API_KEY')\n",
    "\n",
    "text_splitter = RecursiveCharacterTextSplitter(chunk_size=1000, chunk_overlap=20)\n",
    "documents = text_splitter.split_documents(docs)\n",
    "db = FAISS.from_documents(documents[:30], OpenAIEmbeddings())\n",
    "\n",
    "# query = \"Give me the ingredients and instructions for this recipe\"\n",
    "# result = db.similarity_search(query)\n",
    "# result[0].page_content\n",
    "\n",
    "\n",
    "llm = ChatOpenAI(model='gpt-3.5-turbo')\n",
    "\n",
    "\n",
    "\n",
    "prompt = ChatPromptTemplate.from_template(\n",
    "    \"\"\"\n",
    "    You are a highly intelligent and helpful assistant specialized in providing precise and insightful answers based on the given context. Always base your response strictly on the provided information and include step-by-step reasoning to ensure clarity and accuracy. Avoid assumptions and external knowledge unless explicitly asked for.\n",
    "\n",
    "    Your response should:\n",
    "    - Start with a brief summary, if appropriate.\n",
    "    - Break down complex information into clear steps or components.\n",
    "    - Be concise yet thorough.\n",
    "\n",
    "    Here is the context for your response:\n",
    "    <context>\n",
    "    {context}\n",
    "    </context>\n",
    "    \n",
    "    Now, answer the following question:\n",
    "    Question: {input}\n",
    "    \"\"\"\n",
    ")\n",
    "\n",
    "\n",
    "\n",
    "document_chain = create_stuff_documents_chain(llm, prompt)\n",
    "retriever = db.as_retriever()\n",
    "\n",
    "\n",
    "retrieval_chain = create_retrieval_chain(retriever, document_chain)\n",
    "response = retrieval_chain.invoke({\"input\": \"what are the ingredients and the instructions for this recipe?\"})\n",
    "response['answer']\n"
   ]
  },
  {
   "cell_type": "code",
   "execution_count": null,
   "metadata": {},
   "outputs": [],
   "source": []
  },
  {
   "cell_type": "code",
   "execution_count": null,
   "metadata": {},
   "outputs": [],
   "source": []
  },
  {
   "cell_type": "code",
   "execution_count": null,
   "metadata": {},
   "outputs": [],
   "source": []
  },
  {
   "cell_type": "code",
   "execution_count": 66,
   "metadata": {},
   "outputs": [
    {
     "name": "stdout",
     "output_type": "stream",
     "text": [
      "Italian Kale and Potato Soup is a gluten free and whole 30 recipe with 6 servings. This main course has 480 calories, 22g of protein, and 33g of fat per serving. For $2.06 per serving, this recipe covers 26% of your daily requirements of vitamins and minerals. 2 people have made this recipe and would make it again. If you have oregano, ground turkey sausage, chicken broth, and a few other ingredients on hand, you can make it. It can be enjoyed any time, but it is especially good for Autumn. Not a lot of people really liked this Mediterranean dish. It is brought to you by Foodista. From preparation to the plate, this recipe takes roughly 45 minutes. All things considered, we decided this recipe deserves a spoonacular score of 80%. This score is great. Similar recipes are Italian Kale and Potato Soup, Zuppa Vegana: Italian Potato, Bean, and Kale Soup, and Zuppa Toscana {Creamy Potato & Kale Soup with Italian Sausage}.\n"
     ]
    }
   ],
   "source": [
    "# Assume `documents` is the list of Document objects returned.\n",
    "for doc in docs:\n",
    "    description = doc.metadata.get('description', 'No description available')\n",
    "    print(description)\n"
   ]
  },
  {
   "cell_type": "code",
   "execution_count": 75,
   "metadata": {},
   "outputs": [
    {
     "name": "stdout",
     "output_type": "stream",
     "text": [
      "7008\n"
     ]
    }
   ],
   "source": [
    "for doc in docs:\n",
    "    description = doc.page_content\n",
    "    # Method 1: Replace multiple newlines with a single space\n",
    "    cleaned_text = \"\\n\".join(line.strip() for line in description.splitlines() if line.strip())\n",
    "    print(len(cleaned_text))\n"
   ]
  },
  {
   "cell_type": "code",
   "execution_count": 11,
   "metadata": {},
   "outputs": [],
   "source": [
    "# import requests\n",
    "# from dotenv import load_dotenv\n",
    "# from langchain_core.tools import tool\n",
    "# import os\n",
    "\n",
    "# # Load environment variables (e.g., API key)\n",
    "# load_dotenv()\n",
    "\n",
    "# # Define the helper function to make the API request\n",
    "# def search_recipes_tool(query, includeIngredients, excludeIngredients, diet, cuisine, addRecipeInformation, number):\n",
    "#     # API Key and URL\n",
    "#     API_KEY = os.getenv(\"SPOONACULAR_API_KEY\")\n",
    "#     BASE_URL = \"https://api.spoonacular.com/recipes/complexSearch\"\n",
    "\n",
    "#     # Parameters for the search\n",
    "#     params = {\n",
    "#         \"query\": query,  # Search term\n",
    "#         \"includeIngredients\": includeIngredients,  # Must-have ingredients\n",
    "#         \"excludeIngredients\": excludeIngredients,  # Ingredients to exclude\n",
    "#         \"diet\": diet,  # Dietary preference\n",
    "#         \"cuisine\": cuisine,  # Cuisine type\n",
    "#         \"addRecipeInformation\": addRecipeInformation,  # Include detailed recipe info\n",
    "#         \"number\": number,  # Number of results\n",
    "#         \"apiKey\": API_KEY  # API Key\n",
    "#     }\n",
    "\n",
    "#     # Make the API request\n",
    "#     response = requests.get(BASE_URL, params=params)\n",
    "\n",
    "#     # Check the response status and return results\n",
    "#     if response.status_code == 200:\n",
    "#         return response.json()  # Returning the full JSON response from Spoonacular\n",
    "#     else:\n",
    "#         return {\"error\": f\"Failed to fetch recipes: {response.status_code}\"}\n",
    "\n",
    "# # Decorate the function to make it a LangChain tool\n",
    "# @tool\n",
    "# def search_recipes(\n",
    "#     query: str, \n",
    "#     includeIngredients: str, \n",
    "#     excludeIngredients: str, \n",
    "#     diet: str, \n",
    "#     cuisine: str, \n",
    "#     addRecipeInformation: bool, \n",
    "#     number: int,\n",
    "# ) -> dict:\n",
    "#     \"\"\"Search for recipes based on various filters and preferences.\n",
    "\n",
    "#     Args:\n",
    "#         query: Search term for the recipe (e.g., 'pasta').\n",
    "#         includeIngredients: Ingredients that must be included in the recipes (comma-separated).\n",
    "#         excludeIngredients: Ingredients to exclude from the recipes (comma-separated).\n",
    "#         diet: Dietary preference (e.g., 'vegetarian').\n",
    "#         cuisine: Cuisine type (e.g., 'italian').\n",
    "#         addRecipeInformation: Whether to include detailed recipe information (True/False).\n",
    "#         number: Number of results to return.\n",
    "\n",
    "#     Returns:\n",
    "#         A dictionary containing the search results.\n",
    "#     \"\"\"\n",
    "#     return search_recipes_tool(query, includeIngredients, excludeIngredients, diet, cuisine, addRecipeInformation, number)\n"
   ]
  },
  {
   "cell_type": "code",
   "execution_count": null,
   "metadata": {},
   "outputs": [],
   "source": []
  }
 ],
 "metadata": {
  "kernelspec": {
   "display_name": "venv",
   "language": "python",
   "name": "python3"
  },
  "language_info": {
   "codemirror_mode": {
    "name": "ipython",
    "version": 3
   },
   "file_extension": ".py",
   "mimetype": "text/x-python",
   "name": "python",
   "nbconvert_exporter": "python",
   "pygments_lexer": "ipython3",
   "version": "3.11.9"
  }
 },
 "nbformat": 4,
 "nbformat_minor": 2
}
